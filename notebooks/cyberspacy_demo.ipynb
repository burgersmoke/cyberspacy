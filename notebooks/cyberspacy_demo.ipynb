{
 "cells": [
  {
   "cell_type": "markdown",
   "id": "267cc6dc-30f0-4881-8bee-e85281a17ccf",
   "metadata": {},
   "source": [
    "# Cyberspacy demo\n",
    "## This notebook serves to give a brief example of some of the current capabilities of cyberspacy.\n",
    "## Please note that there are many ideas for this package, so stay tuned for more capabilties powers by text processing, LLMS, etc\n"
   ]
  },
  {
   "cell_type": "code",
   "execution_count": 5,
   "id": "0999caae-0d1b-4dda-8131-c4206da42776",
   "metadata": {},
   "outputs": [
    {
     "name": "stdout",
     "output_type": "stream",
     "text": [
      "cyberspacy imported...\n"
     ]
    }
   ],
   "source": [
    "# we will go up a directory to make this easier...\n",
    "import sys\n",
    "\n",
    "from spacy import displacy\n",
    "\n",
    "sys.path.append('..')\n",
    "\n",
    "from cyberspacy.pipelines import PipelineFactory\n",
    "\n",
    "print('cyberspacy imported...')"
   ]
  },
  {
   "cell_type": "code",
   "execution_count": 2,
   "id": "296dc510-6954-45c7-88a5-2478e9ad9ed7",
   "metadata": {},
   "outputs": [],
   "source": [
    "# Once you have cyberspacy and its dependencies, \n",
    "# you can either start to use each of its modualr pieces directly \n",
    "# or you can use the `PipelineFactory` class to select from a number of \"out of the box\" pipelines.\n",
    "\n",
    "# For example, this will construct a `PipelineFactory` and get a new pipeline \n",
    "# for detecting URLS, and whether they may be malicious:\n",
    "\n",
    "factory = PipelineFactory()"
   ]
  },
  {
   "cell_type": "code",
   "execution_count": 3,
   "id": "42057af5-3384-4605-a798-04f085983dc1",
   "metadata": {},
   "outputs": [
    {
     "name": "stdout",
     "output_type": "stream",
     "text": [
      "Help on PipelineFactory in module cyberspacy.pipelines object:\n",
      "\n",
      "class PipelineFactory(builtins.object)\n",
      " |  Methods defined here:\n",
      " |\n",
      " |  __init__(self)\n",
      " |      Initialize self.  See help(type(self)) for accurate signature.\n",
      " |\n",
      " |  create_malicious_url_classifier_pipeline(self)\n",
      " |      Creates a simple pipeline which processes URLs it encounters and applies\n",
      " |      a predictive model to determine if the URL might be malicious.\n",
      " |      The training of this model was performed with two datasets from Kaggle\n",
      " |\n",
      " |  create_url_parser_pipeline(self)\n",
      " |\n",
      " |  ----------------------------------------------------------------------\n",
      " |  Data descriptors defined here:\n",
      " |\n",
      " |  __dict__\n",
      " |      dictionary for instance variables\n",
      " |\n",
      " |  __weakref__\n",
      " |      list of weak references to the object\n",
      "\n",
      "None\n"
     ]
    }
   ],
   "source": [
    "# let's see what methods are available to make pipelines...\n",
    "print(help(factory))"
   ]
  },
  {
   "cell_type": "code",
   "execution_count": 4,
   "id": "9b24f072-996a-4dce-94e6-9807849fe1c3",
   "metadata": {},
   "outputs": [
    {
     "name": "stdout",
     "output_type": "stream",
     "text": [
      "['cyberspacy_url_parser', 'cyberspacy_malicious_url_classifier']\n"
     ]
    }
   ],
   "source": [
    "# we'll use this pipeline to set up some tests:\n",
    "\n",
    "nlp = factory.create_malicious_url_classifier_pipeline()\n",
    "\n",
    "# let's see what pipenames it has:\n",
    "print(nlp.pipe_names)"
   ]
  },
  {
   "cell_type": "code",
   "execution_count": 12,
   "id": "704514a3-1543-4897-bd97-22580d20fdca",
   "metadata": {},
   "outputs": [
    {
     "name": "stdout",
     "output_type": "stream",
     "text": [
      "Token: [My]\n",
      "Token: [project]\n",
      "Token: [is]\n",
      "Token: [also]\n",
      "Token: [on]\n",
      "Token: [http://www.github.com]\n",
      "\tToken is a URL... is it malicious???\n",
      "\ttoken._.URL_malicious_classification: False\n",
      "Token: [as]\n",
      "Token: [well]\n"
     ]
    }
   ],
   "source": [
    "# now we can process some text examples to see if they have URLs and whether they might be malicious...\n",
    "\n",
    "doc_A = nlp('My project is also on http://www.github.com as well')\n",
    "\n",
    "# now we can look through the tokens to see which one is a URL and whether it is predicted to be malicious...\n",
    "for token_idx, token in enumerate(doc_A):\n",
    "    print(f'Token: [{token.text}]')\n",
    "\n",
    "    if token.like_url:\n",
    "        print('\\tToken is a URL... is it malicious???')\n",
    "\n",
    "        print(f'\\ttoken._.URL_malicious_classification: {token._.URL_malicious_classification}')"
   ]
  },
  {
   "cell_type": "code",
   "execution_count": 14,
   "id": "fbf910a7-15d8-4cf1-9878-410173c42970",
   "metadata": {},
   "outputs": [
    {
     "name": "stdout",
     "output_type": "stream",
     "text": [
      "Token: [DO]\n",
      "Token: [NOT]\n",
      "Token: [CLICK]\n",
      "Token: [THIS]\n",
      "Token: [:]\n",
      "Token: [http://www.hjlaw.biz/index.php?option=com_user&view=remind]\n",
      "\tToken is a URL... is it malicious???\n",
      "\ttoken._.URL_malicious_classification: True\n"
     ]
    }
   ],
   "source": [
    "# Let's look at another example to see its behavior\n",
    "\n",
    "bad_url = 'DO NOT CLICK THIS: http://www.hjlaw.biz/index.php?option=com_user&view=remind'\n",
    "\n",
    "doc_B = nlp(bad_url)\n",
    "\n",
    "# now we can look through the tokens to see which one is a URL and whether it is predicted to be malicious...\n",
    "for token_idx, token in enumerate(doc_B):\n",
    "    print(f'Token: [{token.text}]')\n",
    "\n",
    "    if token.like_url:\n",
    "        print('\\tToken is a URL... is it malicious???')\n",
    "\n",
    "        print(f'\\ttoken._.URL_malicious_classification: {token._.URL_malicious_classification}')"
   ]
  }
 ],
 "metadata": {
  "kernelspec": {
   "display_name": "Python [conda env:.conda-cyberspacy] *",
   "language": "python",
   "name": "conda-env-.conda-cyberspacy-py"
  },
  "language_info": {
   "codemirror_mode": {
    "name": "ipython",
    "version": 3
   },
   "file_extension": ".py",
   "mimetype": "text/x-python",
   "name": "python",
   "nbconvert_exporter": "python",
   "pygments_lexer": "ipython3",
   "version": "3.12.9"
  }
 },
 "nbformat": 4,
 "nbformat_minor": 5
}
